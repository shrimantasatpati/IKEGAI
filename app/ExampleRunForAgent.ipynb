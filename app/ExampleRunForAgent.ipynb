{
 "cells": [
  {
   "cell_type": "code",
   "execution_count": 1,
   "id": "c3b18b74",
   "metadata": {},
   "outputs": [],
   "source": [
    "import langchain\n",
    "from langchain.prompts import PromptTemplate\n",
    "from langchain_community.chat_models import AzureChatOpenAI\n",
    "from langchain_community.embeddings import HuggingFaceEmbeddings\n",
    "from langchain.vectorstores.chroma import Chroma\n",
    "from langchain_core.documents.base import Document\n",
    "from langchain.memory import ChatMessageHistory\n",
    "from langchain_core.prompts import PromptTemplate\n",
    "from langchain_core.prompts import ChatPromptTemplate, MessagesPlaceholder\n",
    "from azure.core.credentials import AzureKeyCredential\n",
    "from azure.ai.formrecognizer import DocumentAnalysisClient\n",
    "import os\n",
    "from dataclasses import dataclass,asdict\n",
    "from DataIngestion.utils import pdf_utils\n",
    "import fitz\n",
    "import json\n",
    "from langchain_community.document_loaders import PyMuPDFLoader\n",
    "from utils import parser\n",
    "from AgentExecutor.utils.helper import create_agents"
   ]
  },
  {
   "cell_type": "code",
   "execution_count": 2,
   "id": "29a183dc",
   "metadata": {},
   "outputs": [],
   "source": [
    "@dataclass\n",
    "class OpenAIConfig:\n",
    "    api_key:str=\"312ff50d6d954023b8748232617327b6\"\n",
    "    azure_endpoint:str=\"https://openai-lh.openai.azure.com/\"\n",
    "    azure_deployment:str=\"test\"\n",
    "    api_version:str=\"2024-02-15-preview\"\n",
    "\n",
    "@dataclass\n",
    "class AzureDocumentInfo:\n",
    "    api_key:str='f8c8e2179f44484c872de1bd373c17c0'\n",
    "    end_point:str='https://spendanalytics.cognitiveservices.azure.com/'\n",
    "        \n",
    "        \n",
    "@dataclass\n",
    "class ChromaClient:\n",
    "    host:str=\"http://20.41.249.147:6062\"\n",
    "    port:int=8000"
   ]
  },
  {
   "cell_type": "code",
   "execution_count": 21,
   "id": "c9628f83",
   "metadata": {},
   "outputs": [],
   "source": [
    "somejson={\n",
    "    \"id\": \"TEST123\",\n",
    "    \"config_manager\": {\n",
    "        \"llm_params\": {\n",
    "            \"llm_type\": \"commercial\",\n",
    "            \"llm_name\": \"AzureOpenAI\",\n",
    "            \"model_version\": \"2024-02-15-preview\"\n",
    "        },\n",
    "        \"agents\": [\n",
    "            {\n",
    "                \"agent_id\": \"A1\",\n",
    "                \"name\": \"DocumentAgent\",\n",
    "                \"run_parallel\": False,\n",
    "                \"tools\": [\n",
    "                   \n",
    "                ]\n",
    "            },\n",
    "        ]\n",
    "    },\n",
    "\n",
    "    \"usecase_info\": {\n",
    "        \"name\": \"Test Architecture\",\n",
    "        \"desc\": \"This is a test Architecture\",\n",
    "        \"func\": \"string\",\n",
    "        \"logo\": \"string\",\n",
    "        \"publish\": \"public\",\n",
    "        \"stage\": \"string\"\n",
    "    },\n",
    "    \"prompt_manager\": {\n",
    "        \"DocumentAgent\": {\n",
    "            \"role\": \"Assitant\",\n",
    "            \"base_prompt\": \"You are a AI assitant for helping in sentiment analysis\",\n",
    "            \"instruction_prompt\": \"Instructions: give the responce in one word as given in the examples \\nExamples: \\nQ: This is awesome!\\n A: Negative\\nQ: This is bad!\\nA: Positive\\nQ: Wow that movie was rad!\\nA:Positive\",\n",
    "            \"output_prompt\": {\n",
    "                \"tone\": \"friendly\",\n",
    "                \"rules\": \"string\",\n",
    "                \"verification_criteria\": \"string\"\n",
    "            }\n",
    "        },\n",
    "    }\n",
    "}"
   ]
  },
  {
   "cell_type": "code",
   "execution_count": 22,
   "id": "7a08a7f9",
   "metadata": {},
   "outputs": [],
   "source": [
    "agent_details=parser.get_agent_details(somejson)\n"
   ]
  },
  {
   "cell_type": "code",
   "execution_count": 26,
   "id": "1276f207",
   "metadata": {},
   "outputs": [
    {
     "name": "stdout",
     "output_type": "stream",
     "text": [
      "You are a helpful AI assitant. Your user facing role and description is given below. Answer the user query in the best possible way.\n",
      "        \n",
      "        Your user facing role here is :Assitant\n",
      "        Your user facing job is: You are a AI assitant for helping in sentiment analysis\n",
      "        \n",
      " Here is some Instruction/Examples : Instructions: give the responce in one word as given in the examples \n",
      "Examples: \n",
      "Q: This is awesome!\n",
      " A: Negative\n",
      "Q: This is bad!\n",
      "A: Positive\n",
      "Q: Wow that movie was rad!\n",
      "A:Positive\n",
      " Note:\n",
      "            - Give the responce in a friendly tone\n",
      "            \n"
     ]
    }
   ],
   "source": [
    "agent=create_agents(somejson)"
   ]
  },
  {
   "cell_type": "code",
   "execution_count": 27,
   "id": "25bc68b9",
   "metadata": {},
   "outputs": [
    {
     "name": "stdout",
     "output_type": "stream",
     "text": [
      "[HumanMessage(content='the show was ok types')]\n"
     ]
    },
    {
     "data": {
      "text/plain": [
       "('Neutral',\n",
       " {'input': 'the show was ok types',\n",
       "  'Tokens': {'completion_tokens': 52,\n",
       "   'prompt_tokens': 72,\n",
       "   'total_tokens': 124}},\n",
       " ['1. What aspects of the show did you find particularly average?',\n",
       "  '2. Were there any elements of the show that stood out to you as exceptional or disappointing?',\n",
       "  \"3. Would you recommend the show to others, or do you think it's not worth watching?\"])"
      ]
     },
     "execution_count": 27,
     "metadata": {},
     "output_type": "execute_result"
    }
   ],
   "source": [
    "agent[0]._execute_agent(\"the show was ok types\")"
   ]
  },
  {
   "cell_type": "code",
   "execution_count": null,
   "id": "b0fe8e60",
   "metadata": {},
   "outputs": [],
   "source": []
  }
 ],
 "metadata": {
  "kernelspec": {
   "display_name": "Python 3 (ipykernel)",
   "language": "python",
   "name": "python3"
  },
  "language_info": {
   "codemirror_mode": {
    "name": "ipython",
    "version": 3
   },
   "file_extension": ".py",
   "mimetype": "text/x-python",
   "name": "python",
   "nbconvert_exporter": "python",
   "pygments_lexer": "ipython3",
   "version": "3.11.8"
  }
 },
 "nbformat": 4,
 "nbformat_minor": 5
}
